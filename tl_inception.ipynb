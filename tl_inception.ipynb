{
 "cells": [
  {
   "cell_type": "markdown",
   "metadata": {},
   "source": [
    "# Transfer learning with Inception v3\n",
    "Rupert Thomas - Nov 2017\n",
    "\n",
    "This demo covers retraining a pre-trained Inception v3 network in Keras/TensorFlow. Originally trained using the ImageNet dataset, we use the Kaggle Cats and Dogs dataset to adapt the network for a new purpose.\n",
    "\n",
    "Based on code from: https://deeplearningsandbox.com/how-to-use-transfer-learning-and-fine-tuning-in-keras-and-tensorflow-to-build-an-image-recognition-94b0b02444f2"
   ]
  },
  {
   "cell_type": "code",
   "execution_count": 11,
   "metadata": {},
   "outputs": [],
   "source": [
    "import os\n",
    "import glob\n",
    "import matplotlib.pyplot as plt\n",
    "from matplotlib.ticker import FuncFormatter\n",
    "import numpy as np\n",
    "import datetime\n",
    "import urllib\n",
    "import zipfile\n",
    "import glob\n",
    "import shutil\n",
    "#from sklearn.model_selection import train_test_split\n",
    "from random import shuffle\n",
    "\n",
    "from keras import __version__\n",
    "from keras.applications.inception_v3 import InceptionV3, preprocess_input\n",
    "from keras.models import Model\n",
    "from keras.layers import Dense, GlobalAveragePooling2D, Dropout\n",
    "from keras.preprocessing.image import ImageDataGenerator\n",
    "from keras.optimizers import SGD\n",
    "from keras.callbacks import EarlyStopping, ReduceLROnPlateau, ModelCheckpoint"
   ]
  },
  {
   "cell_type": "code",
   "execution_count": 2,
   "metadata": {},
   "outputs": [],
   "source": [
    "IM_WIDTH, IM_HEIGHT = 299, 299  # fixed size for InceptionV3\n",
    "NUM_COLOUR_CHANNELS = 3  # must be 3 for pre-trained weights\n",
    "NB_EPOCHS = 3\n",
    "BATCH_SIZE = 32\n",
    "FC_SIZE = 1024\n",
    "NB_IV3_LAYERS_TO_FREEZE = 172  # layers to freeze during fine-tuning\n",
    "\n",
    "MULTILABEL = False  # if multilabel, classes are not mutually exclusive\n",
    "\n",
    "output_model_file_suffix = 'inception_V3_retrained.h5'\n",
    "\n",
    "MODEL_PATH = 'output'\n",
    "\n",
    "if not os.path.exists(MODEL_PATH):\n",
    "    os.mkdir(MODEL_PATH)"
   ]
  },
  {
   "cell_type": "code",
   "execution_count": 3,
   "metadata": {},
   "outputs": [],
   "source": [
    "# Download dataset\n",
    "# N.B. these are sitting in my Dropbox, so may disappear at some point/be a little slow. \n",
    "# You can manually download the training file here, with a Kaggle account:\n",
    "# https://www.kaggle.com/c/dogs-vs-cats/data\n",
    "\n",
    "if not os.path.exists('data'):\n",
    "    os.mkdir('data')\n",
    "\n",
    "if not os.path.exists('data/train.zip'):\n",
    "    urllib.request.urlretrieve(\"https://www.dropbox.com/s/qhghnv5l1eoxkxc/train.zip?raw=1\", \"data/train.zip\")\n",
    "\n",
    "    with zipfile.ZipFile('data/train.zip', \"r\") as z:\n",
    "        z.extractall('data/')\n"
   ]
  },
  {
   "cell_type": "code",
   "execution_count": 4,
   "metadata": {},
   "outputs": [],
   "source": [
    "# Split up the dataset, and move images into class-specific subdirectories (Keras likes this setup)\n",
    "\n",
    "train_path = 'data/train'\n",
    "if not os.path.exists(train_path):\n",
    "    os.mkdir(train_path)\n",
    "if not os.path.exists(os.path.join(train_path, 'cat')):\n",
    "    os.mkdir(os.path.join(train_path, 'cat'))\n",
    "if not os.path.exists(os.path.join(train_path, 'dog')):\n",
    "    os.mkdir(os.path.join(train_path, 'dog'))\n",
    "    \n",
    "test_path = 'data/test'\n",
    "if not os.path.exists(test_path):\n",
    "    os.mkdir(test_path)\n",
    "if not os.path.exists(os.path.join(test_path, 'cat')):\n",
    "    os.mkdir(os.path.join(test_path, 'cat'))\n",
    "if not os.path.exists(os.path.join(test_path, 'dog')):\n",
    "    os.mkdir(os.path.join(test_path, 'dog'))\n",
    "\n",
    "train_files = glob.glob(os.path.join(train_path, '*.jpg'))\n",
    "\n",
    "# Split into training and test subsets\n",
    "#train_files, test_files = train_test_split(train_files, test_size=0.1)\n",
    "shuffle(train_files)\n",
    "cut_off = len(train_files) // 10\n",
    "train_files, test_files = train_files[cut_off:], train_files[:cut_off]\n",
    "\n",
    "# Move training files into their class subdirectories\n",
    "for file_path in train_files:\n",
    "    if 'cat' in file_path:\n",
    "        shutil.move(file_path, os.path.join(train_path, 'cat', os.path.basename(file_path)))\n",
    "    if 'dog' in file_path:\n",
    "        shutil.move(file_path, os.path.join(train_path, 'dog', os.path.basename(file_path)))\n",
    "\n",
    "# Move test files\n",
    "for file_path in test_files:\n",
    "    if 'cat' in file_path:\n",
    "        shutil.move(file_path, os.path.join(test_path, 'cat', os.path.basename(file_path)))\n",
    "    if 'dog' in file_path:\n",
    "        shutil.move(file_path, os.path.join(test_path, 'dog', os.path.basename(file_path)))\n"
   ]
  },
  {
   "cell_type": "code",
   "execution_count": 5,
   "metadata": {},
   "outputs": [],
   "source": [
    "# Some support functions\n",
    "\n",
    "def get_nb_files(directory):\n",
    "    \"\"\"Get number of files by searching directory recursively\"\"\"\n",
    "    if not os.path.exists(directory):\n",
    "        return 0\n",
    "    cnt = 0\n",
    "    for r, dirs, files in os.walk(directory):\n",
    "        for dr in dirs:\n",
    "            cnt += len(glob.glob(os.path.join(r, dr + \"/*\")))\n",
    "    return cnt\n",
    "\n",
    "\n",
    "def plot_training(history):\n",
    "    fig,ax_arr = plt.subplots(nrows=2, figsize=(10,10))\n",
    "    acc = history.history['acc']\n",
    "    val_acc = history.history['val_acc']\n",
    "    loss = history.history['loss']\n",
    "    val_loss = history.history['val_loss']\n",
    "    epochs = range(len(acc))\n",
    "\n",
    "    ax_arr[0].plot(epochs, acc, 'r.')\n",
    "    ax_arr[0].plot(epochs, val_acc, 'r')\n",
    "    ax_arr[0].set_title('Training and validation accuracy')\n",
    "    ax_arr[0].yaxis.set_major_formatter(FuncFormatter('{0:.1%}'.format))\n",
    "    \n",
    "    ax_arr[1].plot(epochs, loss, 'r.')\n",
    "    ax_arr[1].plot(epochs, val_loss, 'r-')\n",
    "    ax_arr[1].set_title('Training and validation loss')\n",
    "    ax_arr[1].set_xlabel('Epochs')\n",
    "    \n",
    "    for ax in ax_arr:\n",
    "        \n",
    "        for item in [ax.title, ax.xaxis.label, ax.yaxis.label]:\n",
    "            item.set_fontsize(16)\n",
    "        for item in ([] + ax.get_xticklabels() + ax.get_yticklabels()):          \n",
    "            item.set_fontsize(14)\n",
    "    \n",
    "    plt.legend(labels=['Training', 'Validation'])\n",
    "    plt.show()\n",
    "    \n",
    "    return fig"
   ]
  },
  {
   "cell_type": "code",
   "execution_count": 6,
   "metadata": {},
   "outputs": [
    {
     "name": "stdout",
     "output_type": "stream",
     "text": [
      "Found 22500 images belonging to 2 classes.\n",
      "Found 2500 images belonging to 2 classes.\n"
     ]
    }
   ],
   "source": [
    "# Setup an input pipeline, to feed training data in\n",
    "\n",
    "nb_train_samples = get_nb_files(train_path)\n",
    "nb_classes = len(glob.glob(train_path + \"/*\"))\n",
    "nb_test_samples = get_nb_files(test_path)\n",
    "\n",
    "# data prep\n",
    "train_datagen = ImageDataGenerator(\n",
    "    preprocessing_function=preprocess_input,\n",
    "    rotation_range=30,\n",
    "    width_shift_range=0.2,\n",
    "    height_shift_range=0.2,\n",
    "    shear_range=0.2,\n",
    "    zoom_range=0.2,\n",
    "    horizontal_flip=True\n",
    ")\n",
    "\n",
    "test_datagen = ImageDataGenerator(\n",
    "    preprocessing_function=preprocess_input\n",
    ")\n",
    "\n",
    "train_generator = train_datagen.flow_from_directory(train_path, target_size=(IM_WIDTH, IM_HEIGHT),\n",
    "    batch_size=BATCH_SIZE, class_mode='categorical', shuffle=True)\n",
    "\n",
    "test_generator = test_datagen.flow_from_directory(test_path, target_size=(IM_WIDTH, IM_HEIGHT),\n",
    "    batch_size=BATCH_SIZE, class_mode='categorical', shuffle=False)"
   ]
  },
  {
   "cell_type": "markdown",
   "metadata": {},
   "source": [
    "## Build the network"
   ]
  },
  {
   "cell_type": "code",
   "execution_count": 7,
   "metadata": {},
   "outputs": [],
   "source": [
    "# Create base model\n",
    "#base_model = InceptionV3(input_shape=(IM_WIDTH, IM_HEIGHT, NUM_COLOUR_CHANNELS), weights=None, include_top=False)  # do not use pre-trained weights (e.g. if different input shape)\n",
    "base_model = InceptionV3(input_shape=(IM_WIDTH, IM_HEIGHT, NUM_COLOUR_CHANNELS), weights='imagenet', include_top=False)  # include_top=False excludes final FC layer #weights='imagenet',\n",
    "\n",
    "# Top Model Block\n",
    "x = base_model.output\n",
    "x = GlobalAveragePooling2D()(x)\n",
    "x = Dropout(0.25)(x)\n",
    "x = Dense(FC_SIZE, activation='relu')(x)  # new FC layer, random init\n",
    "if MULTILABEL:\n",
    "    predictions = Dense(nb_classes, activation='sigmoid')(x)  # new sigmoid layer, so that each class probability is independent\n",
    "else:\n",
    "    predictions = Dense(nb_classes, activation='softmax')(x)  # new softmax layer: class probabilities sum to 1\n",
    "\n",
    "# add your top layer block to your base model\n",
    "model = Model(base_model.input, predictions)\n",
    "\n",
    "loss_func = 'categorical_crossentropy'"
   ]
  },
  {
   "cell_type": "markdown",
   "metadata": {},
   "source": [
    "## Training"
   ]
  },
  {
   "cell_type": "markdown",
   "metadata": {},
   "source": [
    "### Transfer learning"
   ]
  },
  {
   "cell_type": "code",
   "execution_count": 8,
   "metadata": {},
   "outputs": [
    {
     "name": "stdout",
     "output_type": "stream",
     "text": [
      "Epoch 1/1\n",
      "703/703 [==============================] - 125s 177ms/step - loss: 0.1931 - acc: 0.9320 - val_loss: 0.0561 - val_acc: 0.9796\n"
     ]
    }
   ],
   "source": [
    "# Transfer Learning: train only the top layers (which were randomly initialized)\n",
    "# i.e. freeze all layers of the based model that is already pre-trained.\n",
    "for layer in base_model.layers:\n",
    "    layer.trainable = False\n",
    "    \n",
    "model.compile(optimizer='nadam', loss=loss_func, metrics=['accuracy'])\n",
    "    \n",
    "NB_EPOCHS = 3\n",
    "workers_per_gpu = 6\n",
    "model_desc = 'cats_and_dogs'\n",
    "desc = 'TL_%s_epochs_%s'%(NB_EPOCHS,model_desc)\n",
    "timestamp = datetime.datetime.today().strftime('%Y%m%d%H%M%S')\n",
    "\n",
    "# Create call-backs: save checkpoint each epoch if better, and stop early if not improving\n",
    "# N.B. ModelCheckpoint not currently working with multi-gpu\n",
    "#top_weights_path = os.path.join(MODEL_PATH, timestamp+'_'+desc+'_top_model_weights.h5')\n",
    "callbacks_list = [\n",
    "    #ModelCheckpoint(top_weights_path, monitor='val_acc', verbose=1, save_best_only=True),\n",
    "    EarlyStopping(monitor='val_acc', patience=5, verbose=0)\n",
    "]\n",
    "\n",
    "history = model.fit_generator(train_generator, epochs=NB_EPOCHS, steps_per_epoch=nb_train_samples // BATCH_SIZE,\n",
    "                          validation_data=test_generator, validation_steps=nb_test_samples // BATCH_SIZE,\n",
    "                          class_weight='auto', verbose=1, workers=workers_per_gpu, callbacks=callbacks_list)\n",
    "\n",
    "#save_model_path = os.path.join(MODEL_PATH, timestamp+'_'+desc+'_'+output_model_file_suffix)\n",
    "#model.load_weights(top_weights_path) # load the best weights from the training\n",
    "#model.save(save_model_path)"
   ]
  },
  {
   "cell_type": "code",
   "execution_count": 9,
   "metadata": {},
   "outputs": [
    {
     "data": {
      "image/png": "[encoded data removed]",
      "text/plain": [
       "<matplotlib.figure.Figure at 0x2864cd7dd68>"
      ]
     },
     "metadata": {},
     "output_type": "display_data"
    }
   ],
   "source": [
    "# Plot training history\n",
    "fig = plot_training(history)\n",
    "#fig.savefig(os.path.join(MODEL_PATH, timestamp+'_'+desc+'_'+'training_history.jpg'))"
   ]
  },
  {
   "cell_type": "markdown",
   "metadata": {},
   "source": [
    "### Fine tuning"
   ]
  },
  {
   "cell_type": "code",
   "execution_count": null,
   "metadata": {},
   "outputs": [],
   "source": [
    "# Train the classifier and the top two Inception blocks, but not the whole stack\n",
    "for layer in model.layers[:NB_IV3_LAYERS_TO_FREEZE]:\n",
    "    layer.trainable = False\n",
    "for layer in model.layers[NB_IV3_LAYERS_TO_FREEZE:]:\n",
    "    layer.trainable = True\n",
    "    \n",
    "model.compile(optimizer='nadam', loss=loss_func, metrics=['accuracy'])\n",
    "    \n",
    "NB_EPOCHS = 3\n",
    "workers_per_gpu = 6\n",
    "desc = desc+'_then_fine_tune'\n",
    "timestamp = datetime.datetime.today().strftime('%Y%m%d%H%M%S')\n",
    "\n",
    "# Create call-backs: save checkpoint each epoch if better, and stop early if not improving\n",
    "# N.B. ModelCheckpoint not currently working with multi-gpu\n",
    "#top_weights_path = os.path.join(MODEL_PATH, timestamp+'_'+desc+'_top_model_weights.h5')\n",
    "callbacks_list = [\n",
    "    ModelCheckpoint(top_weights_path, monitor='val_acc', verbose=1, save_best_only=True),\n",
    "    #EarlyStopping(monitor='val_acc', patience=5, verbose=0)\n",
    "]\n",
    "\n",
    "history = model.fit_generator(train_generator, epochs=NB_EPOCHS, steps_per_epoch=nb_train_samples // BATCH_SIZE,\n",
    "                          validation_data=test_generator, validation_steps=nb_test_samples // BATCH_SIZE,\n",
    "                          class_weight='auto', verbose=1, workers=workers_per_gpu, callbacks=callbacks_list)\n",
    "\n",
    "save_model_path = os.path.join(MODEL_PATH, timestamp+'_'+desc+'_'+output_model_file_suffix)\n",
    "#model.load_weights(top_weights_path) # load the best weights from the training\n",
    "#model.save(save_model_path)"
   ]
  },
  {
   "cell_type": "code",
   "execution_count": null,
   "metadata": {},
   "outputs": [],
   "source": [
    "# Plot training history\n",
    "fig = plot_training(history)\n",
    "#fig.savefig(os.path.join(MODEL_PATH, timestamp+'_'+desc+'_'+'training_history.jpg'))"
   ]
  },
  {
   "cell_type": "markdown",
   "metadata": {},
   "source": [
    "### Full training"
   ]
  },
  {
   "cell_type": "markdown",
   "metadata": {},
   "source": [
    "I've included full training here for completeness, but with this size dataset it will probably over-fit very quickly. Look out for divergence between the accuracy on the training set and the test set."
   ]
  },
  {
   "cell_type": "code",
   "execution_count": null,
   "metadata": {},
   "outputs": [],
   "source": [
    "# Train all layers\n",
    "for layer in model.layers:\n",
    "    layer.trainable = True\n",
    "    \n",
    "model.compile(optimizer='nadam', loss=loss_func, metrics=['accuracy'])\n",
    "    \n",
    "NB_EPOCHS = 3\n",
    "workers_per_gpu = 6\n",
    "\n",
    "# # if starting from scratch\n",
    "# model_desc = 'cats_and_dogs'\n",
    "# desc = 'full_train_%s_epochs_%s'%(NB_EPOCHS,model_desc)\n",
    "\n",
    "# if previously done TL or FT \n",
    "desc = desc+'_full_train'\n",
    "timestamp = datetime.datetime.today().strftime('%Y%m%d%H%M%S')\n",
    "\n",
    "# Create call-backs: save checkpoint each epoch if better, and stop early if not improving\n",
    "# N.B. ModelCheckpoint not currently working with multi-gpu\n",
    "#top_weights_path = os.path.join(MODEL_PATH, timestamp+'_'+desc+'_top_model_weights.h5')\n",
    "callbacks_list = [\n",
    "    ModelCheckpoint(top_weights_path, monitor='val_acc', verbose=1, save_best_only=True),\n",
    "    #EarlyStopping(monitor='val_acc', patience=5, verbose=0)\n",
    "]\n",
    "\n",
    "history = model.fit_generator(train_generator, epochs=NB_EPOCHS, steps_per_epoch=nb_train_samples // BATCH_SIZE,\n",
    "                          validation_data=test_generator, validation_steps=nb_test_samples // BATCH_SIZE,\n",
    "                          class_weight='auto', verbose=1, workers=workers_per_gpu, callbacks=callbacks_list)\n",
    "\n",
    "#save_model_path = os.path.join(MODEL_PATH, timestamp+'_'+desc+'_'+output_model_file_suffix)\n",
    "#model.load_weights(top_weights_path) # load the best weights from the training\n",
    "#model.save(save_model_path)"
   ]
  },
  {
   "cell_type": "code",
   "execution_count": null,
   "metadata": {},
   "outputs": [],
   "source": [
    "# Plot training history\n",
    "fig = plot_training(history)\n",
    "#fig.savefig(os.path.join(MODEL_PATH, timestamp+'_'+desc+'_'+'training_history.jpg'))\n",
    "#plt.close('all')"
   ]
  },
  {
   "cell_type": "markdown",
   "metadata": {},
   "source": [
    "## Evaluate performance"
   ]
  },
  {
   "cell_type": "code",
   "execution_count": 13,
   "metadata": {},
   "outputs": [
    {
     "name": "stdout",
     "output_type": "stream",
     "text": [
      "Test accuracy: 0.980\n"
     ]
    }
   ],
   "source": [
    "# Evaluate on test data\n",
    "test_generator.reset()\n",
    "y_test = test_generator.classes  # get true values for the test dataset. Do not shuffle the test dataset!\n",
    "y_hat = model.predict_generator(test_generator, workers=6)\n",
    "pred = np.argmax(y_hat, axis=1)\n",
    "\n",
    "print('Test accuracy: %0.3f' % (np.sum(pred == y_test) / len(pred)))"
   ]
  },
  {
   "cell_type": "code",
   "execution_count": 21,
   "metadata": {},
   "outputs": [],
   "source": [
    "# Support functions for plotting a confusion matrix\n",
    "\n",
    "# Normally I would just import the confusion_matrix code straight from scikit-learn,\n",
    "# but I've copied it here, and jerry-rigged it to work without the library,\n",
    "# as it appears to not be installed on the AWS build.\n",
    "\n",
    "from scipy.sparse import coo_matrix\n",
    "#from sklearn.metrics import confusion_matrix\n",
    "import itertools\n",
    "\n",
    "def confusion_matrix(y_true, y_pred, labels=None, sample_weight=None):\n",
    "    \"\"\"Compute confusion matrix to evaluate the accuracy of a classification\n",
    "    By definition a confusion matrix :math:`C` is such that :math:`C_{i, j}`\n",
    "    is equal to the number of observations known to be in group :math:`i` but\n",
    "    predicted to be in group :math:`j`.\n",
    "    Thus in binary classification, the count of true negatives is\n",
    "    :math:`C_{0,0}`, false negatives is :math:`C_{1,0}`, true positives is\n",
    "    :math:`C_{1,1}` and false positives is :math:`C_{0,1}`.\n",
    "    Read more in the :ref:`User Guide <confusion_matrix>`.\n",
    "    Parameters\n",
    "    ----------\n",
    "    y_true : array, shape = [n_samples]\n",
    "        Ground truth (correct) target values.\n",
    "    y_pred : array, shape = [n_samples]\n",
    "        Estimated targets as returned by a classifier.\n",
    "    labels : array, shape = [n_classes], optional\n",
    "        List of labels to index the matrix. This may be used to reorder\n",
    "        or select a subset of labels.\n",
    "        If none is given, those that appear at least once\n",
    "        in ``y_true`` or ``y_pred`` are used in sorted order.\n",
    "    sample_weight : array-like of shape = [n_samples], optional\n",
    "        Sample weights.\n",
    "    Returns\n",
    "    -------\n",
    "    C : array, shape = [n_classes, n_classes]\n",
    "        Confusion matrix\n",
    "    \"\"\"\n",
    "#     y_type, y_true, y_pred = _check_targets(y_true, y_pred)\n",
    "#     if y_type not in (\"binary\", \"multiclass\"):\n",
    "#         raise ValueError(\"%s is not supported\" % y_type)\n",
    "\n",
    "    if labels is None:\n",
    "        labels = unique_labels(y_true, y_pred)\n",
    "    else:\n",
    "        labels = np.asarray(labels)\n",
    "        if np.all([l not in y_true for l in labels]):\n",
    "            raise ValueError(\"At least one label specified must be in y_true\")\n",
    "\n",
    "    if sample_weight is None:\n",
    "        sample_weight = np.ones(y_true.shape[0], dtype=np.int64)\n",
    "    else:\n",
    "        sample_weight = np.asarray(sample_weight)\n",
    "\n",
    "#     check_consistent_length(sample_weight, y_true, y_pred)\n",
    "\n",
    "    n_labels = labels.size\n",
    "    label_to_ind = dict((y, x) for x, y in enumerate(labels))\n",
    "    # convert yt, yp into index\n",
    "    y_pred = np.array([label_to_ind.get(x, n_labels + 1) for x in y_pred])\n",
    "    y_true = np.array([label_to_ind.get(x, n_labels + 1) for x in y_true])\n",
    "\n",
    "    # intersect y_pred, y_true with labels, eliminate items not in labels\n",
    "    ind = np.logical_and(y_pred < n_labels, y_true < n_labels)\n",
    "    y_pred = y_pred[ind]\n",
    "    y_true = y_true[ind]\n",
    "    # also eliminate weights of eliminated items\n",
    "    sample_weight = sample_weight[ind]\n",
    "\n",
    "    # Choose the accumulator dtype to always have high precision\n",
    "    if sample_weight.dtype.kind in {'i', 'u', 'b'}:\n",
    "        dtype = np.int64\n",
    "    else:\n",
    "        dtype = np.float64\n",
    "\n",
    "    CM = coo_matrix((sample_weight, (y_true, y_pred)),\n",
    "                    shape=(n_labels, n_labels), dtype=dtype,\n",
    "                    ).toarray()\n",
    "\n",
    "    return CM\n",
    "\n",
    "#**************************************************************#\n",
    "# Plot confusion matrix                                        #\n",
    "# Shows accuracy of neural network inference                   #\n",
    "#**************************************************************#\n",
    "def plot_confusion_matrix(cm, classes,\n",
    "                          normalize=False,\n",
    "                          title='Confusion matrix',\n",
    "                          cmap=plt.cm.Blues):\n",
    "    \"\"\"\n",
    "    This function prints and plots the confusion matrix.\n",
    "    Normalization can be applied by setting `normalize=True`.\n",
    "    \"\"\"\n",
    "\n",
    "    # fig,ax_arr = plt.subplots(nrows=1, ncols=2)\n",
    "\n",
    "    if normalize:\n",
    "        cm = cm.astype('float') / cm.sum(axis=1)[:, np.newaxis]\n",
    "        print(\"Normalized confusion matrix\")\n",
    "        num_formatter = '%.1f%%'\n",
    "        multiplier = 100\n",
    "    else:\n",
    "        print('Confusion matrix')\n",
    "        num_formatter = '%d'\n",
    "        multiplier = 1\n",
    "\n",
    "    plt.imshow(cm, interpolation='nearest', cmap=cmap)\n",
    "    plt.title(title)\n",
    "    plt.grid(False)\n",
    "    # plt.colorbar()\n",
    "    tick_marks = np.arange(len(classes))\n",
    "    plt.xticks(tick_marks, classes, rotation=45)\n",
    "    plt.yticks(tick_marks, classes)\n",
    "\n",
    "    print(cm)\n",
    "\n",
    "    thresh = cm.max() / 2.\n",
    "    for i, j in itertools.product(range(cm.shape[0]), range(cm.shape[1])):\n",
    "        plt.text(j, i, num_formatter % (multiplier * cm[i, j]),\n",
    "                 horizontalalignment=\"center\", fontsize=10,\n",
    "                 color=\"white\" if cm[i, j] > thresh else \"black\")\n",
    "\n",
    "    #plt.tight_layout()\n",
    "    plt.ylabel('True label')\n",
    "    plt.xlabel('Predicted label')"
   ]
  },
  {
   "cell_type": "code",
   "execution_count": 23,
   "metadata": {},
   "outputs": [
    {
     "name": "stdout",
     "output_type": "stream",
     "text": [
      "Confusion matrix\n",
      "[[1215   35]\n",
      " [  16 1234]]\n",
      "Normalized confusion matrix\n",
      "[[ 1.  0.]\n",
      " [ 0.  1.]]\n"
     ]
    },
    {
     "data": {
      "image/png": "[encoded data removed]",
      "text/plain": [
       "<matplotlib.figure.Figure at 0x281c0db0240>"
      ]
     },
     "metadata": {},
     "output_type": "display_data"
    }
   ],
   "source": [
    "# Print \n",
    " \n",
    "fig = plt.figure(figsize=(12, 6))\n",
    "cnf_matrix = confusion_matrix(y_test, pred, labels=[0, 1])\n",
    "class_names = ['Cat', 'Dog']\n",
    "np.set_printoptions(precision=1)\n",
    "ax = plt.subplot(121)\n",
    "plot_confusion_matrix(cnf_matrix, classes=class_names,\n",
    "                      title='Confusion matrix', normalize=False)\n",
    "\n",
    "for item in ([ax.title, ax.xaxis.label, ax.yaxis.label] +\n",
    "             ax.get_xticklabels() + ax.get_yticklabels()):\n",
    "    item.set_fontsize(10)\n",
    "\n",
    "ax = plt.subplot(122)\n",
    "plot_confusion_matrix(cnf_matrix, classes=class_names,\n",
    "                      title='Confusion matrix', normalize=True)\n",
    "\n",
    "for item in ([ax.title, ax.xaxis.label, ax.yaxis.label] +\n",
    "             ax.get_xticklabels() + ax.get_yticklabels()):\n",
    "    item.set_fontsize(10)\n",
    "    \n",
    "fig.subplots_adjust(bottom=0.2)\n",
    "\n",
    "#plt.tight_layout()\n",
    "plt.show()\n",
    "#fig.savefig(os.path.join(MODEL_PATH, desc+'_validation_confusion_matrix.png'), facecolor='w', transparent=False)"
   ]
  },
  {
   "cell_type": "code",
   "execution_count": null,
   "metadata": {},
   "outputs": [],
   "source": []
  }
 ],
 "metadata": {
  "kernelspec": {
   "display_name": "Python 3",
   "language": "python",
   "name": "python3"
  },
  "language_info": {
   "codemirror_mode": {
    "name": "ipython",
    "version": 3
   },
   "file_extension": ".py",
   "mimetype": "text/x-python",
   "name": "python",
   "nbconvert_exporter": "python",
   "pygments_lexer": "ipython3",
   "version": "3.6.5"
  }
 },
 "nbformat": 4,
 "nbformat_minor": 2
}
