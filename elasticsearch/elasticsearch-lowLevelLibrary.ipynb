{
 "cells": [
  {
   "cell_type": "markdown",
   "metadata": {},
   "source": [
    "# Elasticsearch - using the low-level library\n",
    "Rupert Thomas, October 2020  \n",
    "\n",
    "Using: https://elasticsearch-dsl.readthedocs.io/en/latest/index.html\n"
   ]
  },
  {
   "cell_type": "code",
   "execution_count": 1,
   "metadata": {},
   "outputs": [],
   "source": [
    "from pprint import pprint\n",
    "\n",
    "from datetime import datetime\n",
    "from elasticsearch import Elasticsearch"
   ]
  },
  {
   "cell_type": "code",
   "execution_count": 2,
   "metadata": {},
   "outputs": [],
   "source": [
    "es = Elasticsearch(hosts=['elasticsearch'])"
   ]
  },
  {
   "cell_type": "markdown",
   "metadata": {},
   "source": [
    "### Add new record, automatically create an index"
   ]
  },
  {
   "cell_type": "code",
   "execution_count": 3,
   "metadata": {},
   "outputs": [
    {
     "name": "stdout",
     "output_type": "stream",
     "text": [
      "updated\n"
     ]
    }
   ],
   "source": [
    "doc = {\n",
    "    'author': 'kimchy',\n",
    "    'text': 'Elasticsearch: cool. bonsai cool.',\n",
    "    'timestamp': datetime.now(),\n",
    "}\n",
    "\n",
    "res = es.index(index=\"test-index\", id=1, body=doc)\n",
    "\n",
    "print(res['result'])"
   ]
  },
  {
   "cell_type": "markdown",
   "metadata": {},
   "source": [
    "### Get record back"
   ]
  },
  {
   "cell_type": "code",
   "execution_count": 4,
   "metadata": {},
   "outputs": [
    {
     "name": "stdout",
     "output_type": "stream",
     "text": [
      "{'author': 'kimchy',\n",
      " 'text': 'Elasticsearch: cool. bonsai cool.',\n",
      " 'timestamp': '2020-11-04T15:56:55.013872'}\n"
     ]
    }
   ],
   "source": [
    "# Get record back\n",
    "res = es.get(index=\"test-index\", id=1)\n",
    "pprint(res['_source'])"
   ]
  },
  {
   "cell_type": "markdown",
   "metadata": {},
   "source": [
    "### Add another document"
   ]
  },
  {
   "cell_type": "code",
   "execution_count": 5,
   "metadata": {},
   "outputs": [
    {
     "name": "stdout",
     "output_type": "stream",
     "text": [
      "{'_id': 'TI75k3UBztxdYHj6rTb1',\n",
      " '_index': 'test-index',\n",
      " '_primary_term': 1,\n",
      " '_seq_no': 7,\n",
      " '_shards': {'failed': 0, 'successful': 1, 'total': 2},\n",
      " '_type': '_doc',\n",
      " '_version': 1,\n",
      " 'result': 'created'}\n"
     ]
    }
   ],
   "source": [
    "doc = {\n",
    "    'author': 'Dave Smith',\n",
    "    'text': 'Linux expert',\n",
    "    'timestamp': datetime.now(),\n",
    "}\n",
    "\n",
    "res = es.index(index=\"test-index\", body=doc)\n",
    "\n",
    "# print(res['result'])\n",
    "pprint(res)"
   ]
  },
  {
   "cell_type": "code",
   "execution_count": 6,
   "metadata": {},
   "outputs": [
    {
     "name": "stdout",
     "output_type": "stream",
     "text": [
      "{'_id': 'TY75k3UBztxdYHj6rjYw',\n",
      " '_index': 'test-index',\n",
      " '_primary_term': 1,\n",
      " '_seq_no': 8,\n",
      " '_shards': {'failed': 0, 'successful': 1, 'total': 2},\n",
      " '_type': '_doc',\n",
      " '_version': 1,\n",
      " 'result': 'created'}\n"
     ]
    }
   ],
   "source": [
    "doc = {\n",
    "    'author': 'Dave Smith',\n",
    "    'text': 'Linux expert',\n",
    "    'timestamp': datetime.now(),\n",
    "}\n",
    "\n",
    "res = es.index(index=\"test-index\", body=doc)\n",
    "\n",
    "# print(res['result'])\n",
    "pprint(res)"
   ]
  },
  {
   "cell_type": "markdown",
   "metadata": {},
   "source": [
    "### Get all records"
   ]
  },
  {
   "cell_type": "code",
   "execution_count": 7,
   "metadata": {},
   "outputs": [
    {
     "name": "stdout",
     "output_type": "stream",
     "text": [
      "Got 7 Hits:\n",
      "2020-11-04T11:59:52.190634 Dave Smith: Linux expert\n",
      "2020-11-04T12:05:20.613194 Dave Smith: Linux expert\n",
      "2020-11-04T15:52:25.286850 Dave Smith: Linux expert\n",
      "2020-11-04T15:52:25.323666 Dave Smith: Linux expert\n",
      "2020-11-04T15:56:55.013872 kimchy: Elasticsearch: cool. bonsai cool.\n",
      "2020-11-04T15:56:55.155703 Dave Smith: Linux expert\n",
      "2020-11-04T15:56:55.211527 Dave Smith: Linux expert\n"
     ]
    }
   ],
   "source": [
    "es.indices.refresh(index=\"test-index\")\n",
    "\n",
    "res = es.search(index=\"test-index\", body={\"query\": {\"match_all\": {}}})\n",
    "\n",
    "print(\"Got %d Hits:\" % res['hits']['total']['value'])\n",
    "\n",
    "for hit in res['hits']['hits']:\n",
    "    print(\"%(timestamp)s %(author)s: %(text)s\" % hit[\"_source\"])"
   ]
  },
  {
   "cell_type": "markdown",
   "metadata": {},
   "source": [
    "## Query records\n",
    "### Broad search"
   ]
  },
  {
   "cell_type": "code",
   "execution_count": 8,
   "metadata": {},
   "outputs": [
    {
     "name": "stdout",
     "output_type": "stream",
     "text": [
      "Got 6 Hits:\n",
      "2020-11-04T11:59:52.190634 Dave Smith: Linux expert\n",
      "2020-11-04T12:05:20.613194 Dave Smith: Linux expert\n",
      "2020-11-04T15:52:25.286850 Dave Smith: Linux expert\n",
      "2020-11-04T15:52:25.323666 Dave Smith: Linux expert\n",
      "2020-11-04T15:56:55.155703 Dave Smith: Linux expert\n",
      "2020-11-04T15:56:55.211527 Dave Smith: Linux expert\n"
     ]
    }
   ],
   "source": [
    "es.indices.refresh(index=\"test-index\")\n",
    "\n",
    "res = es.search(index=\"test-index\", body={\"query\": {\"query_string\": {\"query\": \"Dave\"}}})\n",
    "\n",
    "print(\"Got %d Hits:\" % res['hits']['total']['value'])\n",
    "\n",
    "for hit in res['hits']['hits']:\n",
    "    print(\"%(timestamp)s %(author)s: %(text)s\" % hit[\"_source\"])"
   ]
  },
  {
   "cell_type": "markdown",
   "metadata": {},
   "source": [
    "### Specific fields"
   ]
  },
  {
   "cell_type": "code",
   "execution_count": 9,
   "metadata": {},
   "outputs": [
    {
     "name": "stdout",
     "output_type": "stream",
     "text": [
      "Got 6 Hits:\n",
      "2020-11-04T11:59:52.190634 Dave Smith: Linux expert\n",
      "2020-11-04T12:05:20.613194 Dave Smith: Linux expert\n",
      "2020-11-04T15:52:25.286850 Dave Smith: Linux expert\n",
      "2020-11-04T15:52:25.323666 Dave Smith: Linux expert\n",
      "2020-11-04T15:56:55.155703 Dave Smith: Linux expert\n",
      "2020-11-04T15:56:55.211527 Dave Smith: Linux expert\n"
     ]
    }
   ],
   "source": [
    "es.indices.refresh(index=\"test-index\")\n",
    "\n",
    "res = es.search(index=\"test-index\", body={\"query\": {\"match\": {\"author\": \"Dave\"}}})  \n",
    "\n",
    "print(\"Got %d Hits:\" % res['hits']['total']['value'])\n",
    "\n",
    "for hit in res['hits']['hits']:\n",
    "    print(\"%(timestamp)s %(author)s: %(text)s\" % hit[\"_source\"])"
   ]
  },
  {
   "cell_type": "markdown",
   "metadata": {},
   "source": [
    "### Fuzzy match\n",
    "\n",
    "See: https://medium.com/@neelambuj2/an-approach-to-highly-intuitive-fuzzy-search-in-elasticsearch-with-typo-handling-exact-matches-a79a795d36f8"
   ]
  },
  {
   "cell_type": "code",
   "execution_count": 10,
   "metadata": {},
   "outputs": [
    {
     "name": "stdout",
     "output_type": "stream",
     "text": [
      "Got 6 Hits:\n",
      "2020-11-04T11:59:52.190634 Dave Smith: Linux expert\n",
      "2020-11-04T12:05:20.613194 Dave Smith: Linux expert\n",
      "2020-11-04T15:52:25.286850 Dave Smith: Linux expert\n",
      "2020-11-04T15:52:25.323666 Dave Smith: Linux expert\n",
      "2020-11-04T15:56:55.155703 Dave Smith: Linux expert\n",
      "2020-11-04T15:56:55.211527 Dave Smith: Linux expert\n"
     ]
    }
   ],
   "source": [
    "# Allow fuzzy matching, and boost exact match\n",
    "\n",
    "query_desc = {\n",
    "    \"query\": {\n",
    "        \"bool\": {\n",
    "            \"should\": [\n",
    "                {\n",
    "                    \"multi_match\": {\n",
    "                        \"query\": \"David\",\n",
    "                        \"type\": \"phrase\",\n",
    "                        \"fields\": [\n",
    "                            \"author\", \"text\"\n",
    "                        ],\n",
    "                        \"boost\": 10\n",
    "                    }\n",
    "                },\n",
    "                {\n",
    "                    \"multi_match\": {\n",
    "                        \"query\": \"Linus\",\n",
    "                        \"type\": \"most_fields\",\n",
    "                        \"fields\": [\n",
    "                            \"author\", \"text\"\n",
    "                        ],\n",
    "                        \"fuzziness\":\"AUTO\"\n",
    "                    }\n",
    "                }\n",
    "            ]\n",
    "        }\n",
    "    }\n",
    "}\n",
    "\n",
    "es.indices.refresh(index=\"test-index\")\n",
    "\n",
    "res = es.search(index=\"test-index\", body=query_desc)\n",
    "\n",
    "print(\"Got %d Hits:\" % res['hits']['total']['value'])\n",
    "\n",
    "for hit in res['hits']['hits']:\n",
    "    print(\"%(timestamp)s %(author)s: %(text)s\" % hit[\"_source\"])"
   ]
  },
  {
   "cell_type": "code",
   "execution_count": 11,
   "metadata": {},
   "outputs": [
    {
     "name": "stdout",
     "output_type": "stream",
     "text": [
      "{'_shards': {'failed': 0, 'skipped': 0, 'successful': 1, 'total': 1},\n",
      " 'hits': {'hits': [{'_id': 'SI4gk3UBztxdYHj6pzaA',\n",
      "                    '_index': 'test-index',\n",
      "                    '_score': 0.28353634,\n",
      "                    '_source': {'author': 'Dave Smith',\n",
      "                                'text': 'Linux expert',\n",
      "                                'timestamp': '2020-11-04T11:59:52.190634'},\n",
      "                    '_type': '_doc'},\n",
      "                   {'_id': 'SY4lk3UBztxdYHj6qjZn',\n",
      "                    '_index': 'test-index',\n",
      "                    '_score': 0.28353634,\n",
      "                    '_source': {'author': 'Dave Smith',\n",
      "                                'text': 'Linux expert',\n",
      "                                'timestamp': '2020-11-04T12:05:20.613194'},\n",
      "                    '_type': '_doc'},\n",
      "                   {'_id': 'So71k3UBztxdYHj6jzbI',\n",
      "                    '_index': 'test-index',\n",
      "                    '_score': 0.28353634,\n",
      "                    '_source': {'author': 'Dave Smith',\n",
      "                                'text': 'Linux expert',\n",
      "                                'timestamp': '2020-11-04T15:52:25.286850'},\n",
      "                    '_type': '_doc'},\n",
      "                   {'_id': 'S471k3UBztxdYHj6jzbt',\n",
      "                    '_index': 'test-index',\n",
      "                    '_score': 0.28353634,\n",
      "                    '_source': {'author': 'Dave Smith',\n",
      "                                'text': 'Linux expert',\n",
      "                                'timestamp': '2020-11-04T15:52:25.323666'},\n",
      "                    '_type': '_doc'},\n",
      "                   {'_id': 'TI75k3UBztxdYHj6rTb1',\n",
      "                    '_index': 'test-index',\n",
      "                    '_score': 0.28353634,\n",
      "                    '_source': {'author': 'Dave Smith',\n",
      "                                'text': 'Linux expert',\n",
      "                                'timestamp': '2020-11-04T15:56:55.155703'},\n",
      "                    '_type': '_doc'},\n",
      "                   {'_id': 'TY75k3UBztxdYHj6rjYw',\n",
      "                    '_index': 'test-index',\n",
      "                    '_score': 0.28353634,\n",
      "                    '_source': {'author': 'Dave Smith',\n",
      "                                'text': 'Linux expert',\n",
      "                                'timestamp': '2020-11-04T15:56:55.211527'},\n",
      "                    '_type': '_doc'}],\n",
      "          'max_score': 0.28353634,\n",
      "          'total': {'relation': 'eq', 'value': 6}},\n",
      " 'timed_out': False,\n",
      " 'took': 8}\n"
     ]
    }
   ],
   "source": [
    "pprint(res)"
   ]
  },
  {
   "cell_type": "code",
   "execution_count": null,
   "metadata": {},
   "outputs": [],
   "source": []
  }
 ],
 "metadata": {
  "kernelspec": {
   "display_name": "Python 3",
   "language": "python",
   "name": "python3"
  },
  "language_info": {
   "codemirror_mode": {
    "name": "ipython",
    "version": 3
   },
   "file_extension": ".py",
   "mimetype": "text/x-python",
   "name": "python",
   "nbconvert_exporter": "python",
   "pygments_lexer": "ipython3",
   "version": "3.8.6"
  }
 },
 "nbformat": 4,
 "nbformat_minor": 4
}
