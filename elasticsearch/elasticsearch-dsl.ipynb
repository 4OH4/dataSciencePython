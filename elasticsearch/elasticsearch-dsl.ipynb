{
 "cells": [
  {
   "cell_type": "markdown",
   "metadata": {},
   "source": [
    "# Elasticsearch DSL\n",
    "Rupert Thomas, October 2020  \n",
    "\n",
    "Based on: https://elasticsearch-dsl.readthedocs.io/en/latest/index.html  \n",
    "\n",
    "I had a few problems running this code - not finished\n"
   ]
  },
  {
   "cell_type": "code",
   "execution_count": null,
   "metadata": {},
   "outputs": [],
   "source": [
    "from datetime import datetime\n",
    "from elasticsearch_dsl import Document, Date, Integer, Keyword, Text\n",
    "from elasticsearch_dsl.connections import connections"
   ]
  },
  {
   "cell_type": "code",
   "execution_count": null,
   "metadata": {},
   "outputs": [],
   "source": [
    "# Define a default Elasticsearch client\n",
    "# connections.create_connection(hosts=['localhost'])\n",
    "connections.create_connection(hosts=['elasticsearch'])"
   ]
  },
  {
   "cell_type": "code",
   "execution_count": null,
   "metadata": {},
   "outputs": [],
   "source": [
    "class Article(Document):\n",
    "    title = Text(analyzer='snowball', fields={'raw': Keyword()})\n",
    "    body = Text(analyzer='snowball')\n",
    "    tags = Keyword()\n",
    "    published_from = Date()\n",
    "    lines = Integer()\n",
    "\n",
    "    class Index:\n",
    "        name = 'blog'\n",
    "        settings = {\n",
    "          \"number_of_shards\": 2,\n",
    "        }\n",
    "\n",
    "    def save(self, ** kwargs):\n",
    "        self.lines = len(self.body.split())\n",
    "        return super(Article, self).save(** kwargs)\n",
    "\n",
    "    def is_published(self):\n",
    "        return datetime.now() >= self.published_from\n",
    "\n",
    "# create the mappings in elasticsearch\n",
    "Article.init()"
   ]
  },
  {
   "cell_type": "code",
   "execution_count": null,
   "metadata": {},
   "outputs": [],
   "source": [
    "# create and save and article\n",
    "article = Article(meta={'id': 42}, title='Hello world!', tags=['test'])\n",
    "article.body = ''' looong text '''\n",
    "article.published_from = datetime.now()\n",
    "article.save()"
   ]
  },
  {
   "cell_type": "code",
   "execution_count": null,
   "metadata": {},
   "outputs": [],
   "source": [
    "article = Article.get(id=42)\n",
    "print(article.is_published())"
   ]
  },
  {
   "cell_type": "code",
   "execution_count": null,
   "metadata": {},
   "outputs": [],
   "source": [
    "# Display cluster health\n",
    "print(connections.get_connection().cluster.health())"
   ]
  },
  {
   "cell_type": "code",
   "execution_count": null,
   "metadata": {},
   "outputs": [],
   "source": []
  },
  {
   "cell_type": "markdown",
   "metadata": {},
   "source": [
    "### Faceted Search"
   ]
  },
  {
   "cell_type": "code",
   "execution_count": null,
   "metadata": {},
   "outputs": [],
   "source": [
    "from elasticsearch_dsl import FacetedSearch, TermsFacet, DateHistogramFacet\n",
    "\n",
    "class BlogSearch(FacetedSearch):\n",
    "    doc_types = [Article, ]\n",
    "    # fields that should be searched\n",
    "    fields = ['tags', 'title', 'body']\n",
    "\n",
    "    facets = {\n",
    "        # use bucket aggregations to define facets\n",
    "        'tags': TermsFacet(field='tags'),\n",
    "        'publishing_frequency': DateHistogramFacet(field='published_from', interval='month')\n",
    "    }"
   ]
  },
  {
   "cell_type": "code",
   "execution_count": null,
   "metadata": {},
   "outputs": [],
   "source": [
    "# empty search\n",
    "bs = BlogSearch()\n",
    "response = bs.execute()\n",
    "response"
   ]
  },
  {
   "cell_type": "code",
   "execution_count": null,
   "metadata": {},
   "outputs": [],
   "source": [
    "for hit in response:\n",
    "    print(hit.meta.score, hit.title)\n",
    "\n",
    "for (tag, count, selected) in response.facets.tags:\n",
    "    print(tag, ' (SELECTED):' if selected else ':', count)\n",
    "\n",
    "for (month, count, selected) in response.facets.publishing_frequency:\n",
    "    print(month.strftime('%B %Y'), ' (SELECTED):' if selected else ':', count)"
   ]
  },
  {
   "cell_type": "code",
   "execution_count": null,
   "metadata": {},
   "outputs": [],
   "source": []
  }
 ],
 "metadata": {
  "kernelspec": {
   "display_name": "Python 3",
   "language": "python",
   "name": "python3"
  },
  "language_info": {
   "codemirror_mode": {
    "name": "ipython",
    "version": 3
   },
   "file_extension": ".py",
   "mimetype": "text/x-python",
   "name": "python",
   "nbconvert_exporter": "python",
   "pygments_lexer": "ipython3",
   "version": "3.8.6"
  }
 },
 "nbformat": 4,
 "nbformat_minor": 4
}
